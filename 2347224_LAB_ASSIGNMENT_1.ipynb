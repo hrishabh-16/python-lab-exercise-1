{
 "cells": [
  {
   "cell_type": "code",
   "execution_count": 3,
   "metadata": {},
   "outputs": [
    {
     "name": "stdout",
     "output_type": "stream",
     "text": [
      "Here is  a description about yourself:\n",
      " HI ! \n",
      " Name : Hrishabh Gautam. \n",
      " Registration Number : 2347224 \n",
      " Class And Section : I MCA B \n",
      " Domain Name : Online Election System .\n",
      " Currently I am pursuing Master of Computer Application course  which is a two year programme(2023-2024) from \n",
      " Christ Deemed to be University Bangalore. I'm a hard worker and a quick learner.\n",
      " I'm  always eager to take on new challenges, and  is always willing to help my classmates\n",
      "  .\n",
      "\n",
      "\n"
     ]
    }
   ],
   "source": [
    "#program to introduce myself\n",
    "intro=\"\"\" HI ! \\n Name : Hrishabh Gautam. \\n Registration Number : 2347224 \\n Class And Section : I MCA B \\n Domain Name : Online Election System .\\n Currently I am pursuing Master of Computer Application course  which is a two year programme(2023-2024) from \\n Christ Deemed to be University Bangalore. I'm a hard worker and a quick learner.\\n I'm  always eager to take on new challenges, and  is always willing to help my classmates\n",
    "  .\"\"\"\n",
    "print(\"Here is  a description about yourself:\")\n",
    "print(intro)\n",
    "\n",
    "\n",
    "print(\"\\n\")"
   ]
  },
  {
   "cell_type": "code",
   "execution_count": 4,
   "metadata": {},
   "outputs": [
    {
     "name": "stdout",
     "output_type": "stream",
     "text": [
      "Here is a description about my domain:\n",
      "  An online election system is a web-based application \n",
      "  that allows voters to cast their votes electronically.\n",
      "    This system has the potential to revolutionize the way elections are conducted, \n",
      "    making them more efficient, transparent, and secure.\n",
      "\n",
      "\n"
     ]
    }
   ],
   "source": [
    "#program to introduce my domain\n",
    "print(\"Here is a description about my domain:\")\n",
    "description=\"\"\"  An online election system is a web-based application \n",
    "  that allows voters to cast their votes electronically.\n",
    "    This system has the potential to revolutionize the way elections are conducted, \n",
    "    making them more efficient, transparent, and secure.\"\"\"\n",
    "print(description)\n",
    "   \n",
    "print(\"\\n\")"
   ]
  },
  {
   "cell_type": "code",
   "execution_count": 5,
   "metadata": {},
   "outputs": [
    {
     "name": "stdout",
     "output_type": "stream",
     "text": [
      "The type of the variables = \n",
      "\n",
      "<class 'str'>\n",
      "\n",
      "\n",
      "<class 'str'>\n",
      "\n",
      "\n",
      "<class 'int'>\n",
      "\n",
      "\n",
      "<class 'int'>\n",
      "\n",
      "\n",
      "<class 'float'>\n",
      "\n",
      "\n",
      "<class 'bool'>\n",
      "\n",
      "\n"
     ]
    }
   ],
   "source": [
    "#program to display all the datatypes of selected specific elements in the paragraph\n",
    "name=\"hrishabh gautam\"\n",
    "domain=\"online election system\"\n",
    "regno=2347224\n",
    "age=21\n",
    "marks=3.5\n",
    "ismale= True\n",
    "print(\"The type of the variables = \\n\")\n",
    "print(type(name))\n",
    "print(\"\\n\")\n",
    "print(type(domain))\n",
    "print(\"\\n\")\n",
    "print(type(regno))\n",
    "print(\"\\n\")\n",
    "print(type(age))\n",
    "print(\"\\n\")\n",
    "print(type(marks))\n",
    "print(\"\\n\")\n",
    "print(type(ismale))\n",
    "print(\"\\n\")"
   ]
  },
  {
   "cell_type": "code",
   "execution_count": 6,
   "metadata": {},
   "outputs": [
    {
     "name": "stdout",
     "output_type": "stream",
     "text": [
      "The Number of times word 'the' is present is = \n",
      "4\n",
      "The Number of times word 'I' is present is = \n",
      "5\n"
     ]
    }
   ],
   "source": [
    "#program to count the number of specific word count\n",
    "print(\"The Number of times word 'the' is present is = \")\n",
    "print(description.count(\"the\"))\n",
    "print(\"The Number of times word 'I' is present is = \")\n",
    "print(intro.count(\"I\"))\n"
   ]
  },
  {
   "cell_type": "code",
   "execution_count": 8,
   "metadata": {},
   "outputs": [
    {
     "name": "stdout",
     "output_type": "stream",
     "text": [
      "{'alphabets': 503, 'numeric': 15, 'special': 160}\n"
     ]
    }
   ],
   "source": [
    "#program to program to count the number of alphabets,\n",
    "# numeric and other special symbols in the paragraph\n",
    "def count_characters(paragraph):\n",
    "\n",
    "  alphabets = 0\n",
    "  numeric = 0\n",
    "  special = 0\n",
    "\n",
    "  for character in paragraph:\n",
    "    if character.isalpha():\n",
    "      alphabets += 1\n",
    "    elif character.isdigit():\n",
    "      numeric += 1\n",
    "    else:\n",
    "      special += 1\n",
    "\n",
    "  return {\"alphabets\": alphabets, \"numeric\": numeric, \"special\": special}\n",
    "\n",
    "\n",
    "paragraph = \"\"\" HI ! \\n Name : Hrishabh Gautam. \\n Registration Number : 2347224 \\n Class And Section : I MCA B \\n Domain Name : Online Election System .\\n Currently I am pursuing Master of Computer Application course  which is a two year programme(2023-2024) from \\n Christ Deemed to be University Bangalore. I'm a hard worker and a quick learner.\\n I'm  always eager to take on new challenges, and  is always willing to help my classmates\n",
    "  .\n",
    "   An online election system is a web-based application \n",
    "  that allows voters to cast their votes electronically.\n",
    "    This system has the potential to revolutionize the way elections are conducted, \n",
    "    making them more efficient, transparent, and secure.\"\"\"\n",
    "result = count_characters(paragraph)\n",
    "print(result)"
   ]
  },
  {
   "cell_type": "code",
   "execution_count": 9,
   "metadata": {},
   "outputs": [
    {
     "name": "stdout",
     "output_type": "stream",
     "text": [
      "{101, 'True', 7.5, 'hello admin ', 'water@889', 'admin_name_hrishabh'}\n",
      "\n",
      "\n",
      "{101, 'True', 7.5, 'hello admin ', 'admin_name_hrishabh'}\n",
      "\n",
      "\n",
      "{'True', 7.5, 'hello admin ', 'admin_name_hrishabh'}\n",
      "\n",
      "\n",
      "set()\n",
      "\n",
      "\n",
      "{'True', 'jamshedpur', 'hero@gmail.com', 'male ', 'hello admin', 'water@889', 'admin_name_hrishabh'}\n",
      "\n",
      "\n"
     ]
    }
   ],
   "source": [
    "#program to create a Set with elements that consists of various data types and do the pop(), remove(), clear () etc.\n",
    "def admin():\n",
    "  \"\"\"Creates a Set with elements that consists of various data types int, float, string, Boolean.\"\"\"\n",
    "  set1 = {101, 7.5, \"hello admin \",\"admin_name_hrishabh\",\"water@889\",'True'}\n",
    "  return set1\n",
    "\n",
    "\n",
    "set1 = admin()\n",
    "print(set1)\n",
    "\n",
    "print(\"\\n\")\n",
    "\n",
    "set1.remove(\"water@889\")\n",
    "print(set1)\n",
    "\n",
    "print(\"\\n\")\n",
    "\n",
    "set1.pop()\n",
    "print(set1)  \n",
    "\n",
    "print(\"\\n\")\n",
    "\n",
    "set1.clear()\n",
    "print(set1)\n",
    "\n",
    "  \n",
    "print(\"\\n\")\n",
    "\n",
    "set1 ={ \"hello admin\", \"hero@gmail.com\", \"male \",\"jamshedpur\",\"admin_name_hrishabh\",\"water@889\",'True'}\n",
    "print(set1)\n",
    "  \n",
    "del set1\n",
    "   \n",
    "print(\"\\n\")"
   ]
  },
  {
   "cell_type": "code",
   "execution_count": null,
   "metadata": {},
   "outputs": [],
   "source": []
  },
  {
   "cell_type": "code",
   "execution_count": null,
   "metadata": {},
   "outputs": [],
   "source": [
    "# Sort the elements in the set.\n",
    "domain=set({\"hello\",\"welcome\",\"to\",\"my \",\"project\",\"on\",\"online\",\"election\",\"system\"})\n",
    "  \n",
    "print(\"Actual Set: \",domain)\n",
    "print(\"Sorted Set: \",sorted(domain))\n",
    "\n",
    "\n",
    "print(\"\\n\")"
   ]
  },
  {
   "cell_type": "code",
   "execution_count": 10,
   "metadata": {},
   "outputs": [
    {
     "name": "stdout",
     "output_type": "stream",
     "text": [
      "broom\n",
      "45\n",
      "Chetan Patel\n",
      "\n",
      "\n"
     ]
    }
   ],
   "source": [
    "#tuple packing and unpacking\n",
    "tup1= (\"broom\", 45,\"Chetan Patel\") #tuple packing\n",
    "(party_symbol , age ,name )=tup1   #tuple unpacking\n",
    "print(party_symbol)\n",
    "print(age)\n",
    "print(name)\n",
    "  \n",
    "print(\"\\n\")"
   ]
  },
  {
   "cell_type": "code",
   "execution_count": 11,
   "metadata": {},
   "outputs": [
    {
     "name": "stdout",
     "output_type": "stream",
     "text": [
      "Duplicate characters in a given string: \n",
      "w  -  2\n",
      "e  -  6\n",
      "l  -  4\n",
      "c  -  2\n",
      "o  -  6\n",
      "m  -  4\n",
      "t  -  6\n",
      "h  -  2\n",
      "d  -  2\n",
      "y  -  2\n",
      "a  -  2\n",
      "i  -  4\n",
      "n  -  4\n",
      "s  -  2\n",
      "\n",
      "\n"
     ]
    }
   ],
   "source": [
    "#duplicate characters in the string\n",
    "\n",
    "domain = \"welcome to the world of my domain that is Online Election System\"\n",
    "    \n",
    "print(\"Duplicate characters in a given string: \")\n",
    "for i in range(0, len(domain)):  \n",
    "    count = 1\n",
    "    for j in range(i+1, len(domain)):  \n",
    "        if(domain[i] == domain[j] and domain[i] != ' '):  \n",
    "            count = count + 1;  \n",
    "            domain = domain[:j] + '0' + domain[j+1:];  \n",
    "    \n",
    "    if(count > 1 and domain[i] != '0'):  \n",
    "        print(domain[i],\" - \",count)\n",
    "\n",
    "\n",
    "print(\"\\n\")\n"
   ]
  },
  {
   "cell_type": "code",
   "execution_count": 13,
   "metadata": {},
   "outputs": [
    {
     "name": "stdout",
     "output_type": "stream",
     "text": [
      "('Election',)\n",
      "\n",
      "\n",
      "('Online', 'Election')\n",
      "\n",
      "\n",
      "('Election', 'System')\n",
      "\n",
      "\n",
      "('System', 'Online')\n",
      "\n",
      "\n",
      "('Online', 'Election', 'System')\n",
      "\n",
      "\n",
      "('Election',)\n",
      "\n",
      "\n"
     ]
    }
   ],
   "source": [
    "#Enter your domain name, execute all the slicing possibilities\n",
    "domain = (\"Online\",\"Election\",\"System\")\n",
    "sliced_list=domain[1:2]\n",
    "print(sliced_list)\n",
    "\n",
    "print(\"\\n\")\n",
    "\n",
    "\n",
    "domain = (\"Online\",\"Election\", \"System\")\n",
    "sliced_list=domain[:2]\n",
    "print(sliced_list)\n",
    "\n",
    "\n",
    "print(\"\\n\")\n",
    "\n",
    "\n",
    "domain = (\"Online\",\"Election\", \"System\")\n",
    "sliced_list=domain[1:]\n",
    "print(sliced_list)\n",
    "\n",
    "print(\"\\n\")\n",
    "\n",
    "\n",
    "domain = (\"Online\",\"Election\", \"System\")\n",
    "sliced_list=domain[::-2]\n",
    "print(sliced_list)\n",
    "\n",
    "print(\"\\n\")\n",
    "\n",
    "\n",
    "domain = (\"Online\",\"Election\", \"System\")\n",
    "sliced_list=domain[:]\n",
    "print(sliced_list)\n",
    "\n",
    "\n",
    "print(\"\\n\")\n",
    "\n",
    "\n",
    "domain = (\"Online\",\"Election\", \"System\")\n",
    "sliced_list=domain[-2:-1]\n",
    "print(sliced_list)\n",
    "\n",
    "print(\"\\n\")"
   ]
  }
 ],
 "metadata": {
  "kernelspec": {
   "display_name": "Python 3",
   "language": "python",
   "name": "python3"
  },
  "language_info": {
   "codemirror_mode": {
    "name": "ipython",
    "version": 3
   },
   "file_extension": ".py",
   "mimetype": "text/x-python",
   "name": "python",
   "nbconvert_exporter": "python",
   "pygments_lexer": "ipython3",
   "version": "3.11.4"
  },
  "orig_nbformat": 4
 },
 "nbformat": 4,
 "nbformat_minor": 2
}
